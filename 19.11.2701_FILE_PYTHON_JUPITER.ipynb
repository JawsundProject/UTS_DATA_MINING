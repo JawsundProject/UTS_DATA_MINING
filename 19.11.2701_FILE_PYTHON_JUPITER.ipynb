{
 "cells": [
  {
   "cell_type": "code",
   "execution_count": 1,
   "id": "ba8623fd",
   "metadata": {},
   "outputs": [],
   "source": [
    "from mlxtend.frequent_patterns import apriori, association_rules\n",
    "import pandas as pd\n",
    "import numpy as np "
   ]
  },
  {
   "cell_type": "code",
   "execution_count": 17,
   "id": "39c0df9c",
   "metadata": {},
   "outputs": [],
   "source": [
    "df = pd.read_csv('19.11.2701.csv', header = None)\n",
    "transactions = []\n",
    "for i in range(0, 3):\n",
    "  transactions.append([str(df.values[i,j]) for j in range(0, 6)])\n"
   ]
  },
  {
   "cell_type": "code",
   "execution_count": 18,
   "id": "aa799d28",
   "metadata": {
    "scrolled": true
   },
   "outputs": [
    {
     "data": {
      "text/html": [
       "<div>\n",
       "<style scoped>\n",
       "    .dataframe tbody tr th:only-of-type {\n",
       "        vertical-align: middle;\n",
       "    }\n",
       "\n",
       "    .dataframe tbody tr th {\n",
       "        vertical-align: top;\n",
       "    }\n",
       "\n",
       "    .dataframe thead th {\n",
       "        text-align: right;\n",
       "    }\n",
       "</style>\n",
       "<table border=\"1\" class=\"dataframe\">\n",
       "  <thead>\n",
       "    <tr style=\"text-align: right;\">\n",
       "      <th></th>\n",
       "      <th>0</th>\n",
       "      <th>1</th>\n",
       "      <th>2</th>\n",
       "      <th>3</th>\n",
       "      <th>4</th>\n",
       "      <th>5</th>\n",
       "      <th>6</th>\n",
       "    </tr>\n",
       "  </thead>\n",
       "  <tbody>\n",
       "    <tr>\n",
       "      <th>0</th>\n",
       "      <td>Usaha</td>\n",
       "      <td>2011.00</td>\n",
       "      <td>2012.00</td>\n",
       "      <td>2013.00</td>\n",
       "      <td>2014.00</td>\n",
       "      <td>2015.00</td>\n",
       "      <td>2016.00</td>\n",
       "    </tr>\n",
       "    <tr>\n",
       "      <th>1</th>\n",
       "      <td>Mikro</td>\n",
       "      <td>88.02</td>\n",
       "      <td>97.18</td>\n",
       "      <td>118.77</td>\n",
       "      <td>140.27</td>\n",
       "      <td>164.87</td>\n",
       "      <td>178.51</td>\n",
       "    </tr>\n",
       "    <tr>\n",
       "      <th>2</th>\n",
       "      <td>Kecil</td>\n",
       "      <td>146.53</td>\n",
       "      <td>164.27</td>\n",
       "      <td>187.73</td>\n",
       "      <td>201.98</td>\n",
       "      <td>215.92</td>\n",
       "      <td>236.30</td>\n",
       "    </tr>\n",
       "    <tr>\n",
       "      <th>3</th>\n",
       "      <td>Menengah</td>\n",
       "      <td>223.61</td>\n",
       "      <td>264.95</td>\n",
       "      <td>303.53</td>\n",
       "      <td>329.47</td>\n",
       "      <td>359.01</td>\n",
       "      <td>367.09</td>\n",
       "    </tr>\n",
       "  </tbody>\n",
       "</table>\n",
       "</div>"
      ],
      "text/plain": [
       "          0        1        2        3        4        5        6\n",
       "0     Usaha  2011.00  2012.00  2013.00  2014.00  2015.00  2016.00\n",
       "1     Mikro    88.02    97.18   118.77   140.27   164.87   178.51\n",
       "2     Kecil   146.53   164.27   187.73   201.98   215.92   236.30\n",
       "3  Menengah   223.61   264.95   303.53   329.47   359.01   367.09"
      ]
     },
     "execution_count": 18,
     "metadata": {},
     "output_type": "execute_result"
    }
   ],
   "source": [
    "df.head()"
   ]
  },
  {
   "cell_type": "code",
   "execution_count": 19,
   "id": "60628f13",
   "metadata": {
    "scrolled": true
   },
   "outputs": [
    {
     "data": {
      "text/plain": [
       "array([['Usaha', 2011.0, 2012.0, 2013.0, 2014.0, 2015.0, 2016.0],\n",
       "       ['Mikro', 88.02, 97.18, 118.77, 140.27, 164.87, 178.51],\n",
       "       ['Kecil', 146.53, 164.27, 187.73, 201.98, 215.92, 236.3],\n",
       "       ['Menengah', 223.61, 264.95, 303.53, 329.47, 359.01, 367.09]],\n",
       "      dtype=object)"
      ]
     },
     "execution_count": 19,
     "metadata": {},
     "output_type": "execute_result"
    }
   ],
   "source": [
    "df.values"
   ]
  },
  {
   "cell_type": "code",
   "execution_count": 20,
   "id": "8e42a8a2",
   "metadata": {},
   "outputs": [],
   "source": [
    "from apyori import apriori\n",
    "rules = apriori(transactions = transactions, min_support = 0.003, min_confidence = 0.2, min_lift = 3, min_length = 2, max_length = 2)"
   ]
  },
  {
   "cell_type": "code",
   "execution_count": 22,
   "id": "cf55f2ae",
   "metadata": {},
   "outputs": [],
   "source": [
    "results = list(rules)"
   ]
  },
  {
   "cell_type": "code",
   "execution_count": 23,
   "id": "8d3fcd6b",
   "metadata": {},
   "outputs": [
    {
     "data": {
      "text/plain": [
       "[RelationRecord(items=frozenset({'118.77', '140.27'}), support=0.3333333333333333, ordered_statistics=[OrderedStatistic(items_base=frozenset({'118.77'}), items_add=frozenset({'140.27'}), confidence=1.0, lift=3.0), OrderedStatistic(items_base=frozenset({'140.27'}), items_add=frozenset({'118.77'}), confidence=1.0, lift=3.0)]),\n",
       " RelationRecord(items=frozenset({'118.77', '164.87'}), support=0.3333333333333333, ordered_statistics=[OrderedStatistic(items_base=frozenset({'118.77'}), items_add=frozenset({'164.87'}), confidence=1.0, lift=3.0), OrderedStatistic(items_base=frozenset({'164.87'}), items_add=frozenset({'118.77'}), confidence=1.0, lift=3.0)]),\n",
       " RelationRecord(items=frozenset({'118.77', '88.02'}), support=0.3333333333333333, ordered_statistics=[OrderedStatistic(items_base=frozenset({'118.77'}), items_add=frozenset({'88.02'}), confidence=1.0, lift=3.0), OrderedStatistic(items_base=frozenset({'88.02'}), items_add=frozenset({'118.77'}), confidence=1.0, lift=3.0)]),\n",
       " RelationRecord(items=frozenset({'97.18', '118.77'}), support=0.3333333333333333, ordered_statistics=[OrderedStatistic(items_base=frozenset({'118.77'}), items_add=frozenset({'97.18'}), confidence=1.0, lift=3.0), OrderedStatistic(items_base=frozenset({'97.18'}), items_add=frozenset({'118.77'}), confidence=1.0, lift=3.0)]),\n",
       " RelationRecord(items=frozenset({'118.77', 'Mikro'}), support=0.3333333333333333, ordered_statistics=[OrderedStatistic(items_base=frozenset({'118.77'}), items_add=frozenset({'Mikro'}), confidence=1.0, lift=3.0), OrderedStatistic(items_base=frozenset({'Mikro'}), items_add=frozenset({'118.77'}), confidence=1.0, lift=3.0)]),\n",
       " RelationRecord(items=frozenset({'164.87', '140.27'}), support=0.3333333333333333, ordered_statistics=[OrderedStatistic(items_base=frozenset({'140.27'}), items_add=frozenset({'164.87'}), confidence=1.0, lift=3.0), OrderedStatistic(items_base=frozenset({'164.87'}), items_add=frozenset({'140.27'}), confidence=1.0, lift=3.0)]),\n",
       " RelationRecord(items=frozenset({'88.02', '140.27'}), support=0.3333333333333333, ordered_statistics=[OrderedStatistic(items_base=frozenset({'140.27'}), items_add=frozenset({'88.02'}), confidence=1.0, lift=3.0), OrderedStatistic(items_base=frozenset({'88.02'}), items_add=frozenset({'140.27'}), confidence=1.0, lift=3.0)]),\n",
       " RelationRecord(items=frozenset({'97.18', '140.27'}), support=0.3333333333333333, ordered_statistics=[OrderedStatistic(items_base=frozenset({'140.27'}), items_add=frozenset({'97.18'}), confidence=1.0, lift=3.0), OrderedStatistic(items_base=frozenset({'97.18'}), items_add=frozenset({'140.27'}), confidence=1.0, lift=3.0)]),\n",
       " RelationRecord(items=frozenset({'Mikro', '140.27'}), support=0.3333333333333333, ordered_statistics=[OrderedStatistic(items_base=frozenset({'140.27'}), items_add=frozenset({'Mikro'}), confidence=1.0, lift=3.0), OrderedStatistic(items_base=frozenset({'Mikro'}), items_add=frozenset({'140.27'}), confidence=1.0, lift=3.0)]),\n",
       " RelationRecord(items=frozenset({'164.27', '146.53'}), support=0.3333333333333333, ordered_statistics=[OrderedStatistic(items_base=frozenset({'146.53'}), items_add=frozenset({'164.27'}), confidence=1.0, lift=3.0), OrderedStatistic(items_base=frozenset({'164.27'}), items_add=frozenset({'146.53'}), confidence=1.0, lift=3.0)]),\n",
       " RelationRecord(items=frozenset({'187.73', '146.53'}), support=0.3333333333333333, ordered_statistics=[OrderedStatistic(items_base=frozenset({'146.53'}), items_add=frozenset({'187.73'}), confidence=1.0, lift=3.0), OrderedStatistic(items_base=frozenset({'187.73'}), items_add=frozenset({'146.53'}), confidence=1.0, lift=3.0)]),\n",
       " RelationRecord(items=frozenset({'146.53', '201.98'}), support=0.3333333333333333, ordered_statistics=[OrderedStatistic(items_base=frozenset({'146.53'}), items_add=frozenset({'201.98'}), confidence=1.0, lift=3.0), OrderedStatistic(items_base=frozenset({'201.98'}), items_add=frozenset({'146.53'}), confidence=1.0, lift=3.0)]),\n",
       " RelationRecord(items=frozenset({'146.53', '215.92'}), support=0.3333333333333333, ordered_statistics=[OrderedStatistic(items_base=frozenset({'146.53'}), items_add=frozenset({'215.92'}), confidence=1.0, lift=3.0), OrderedStatistic(items_base=frozenset({'215.92'}), items_add=frozenset({'146.53'}), confidence=1.0, lift=3.0)]),\n",
       " RelationRecord(items=frozenset({'Kecil', '146.53'}), support=0.3333333333333333, ordered_statistics=[OrderedStatistic(items_base=frozenset({'146.53'}), items_add=frozenset({'Kecil'}), confidence=1.0, lift=3.0), OrderedStatistic(items_base=frozenset({'Kecil'}), items_add=frozenset({'146.53'}), confidence=1.0, lift=3.0)]),\n",
       " RelationRecord(items=frozenset({'164.27', '187.73'}), support=0.3333333333333333, ordered_statistics=[OrderedStatistic(items_base=frozenset({'164.27'}), items_add=frozenset({'187.73'}), confidence=1.0, lift=3.0), OrderedStatistic(items_base=frozenset({'187.73'}), items_add=frozenset({'164.27'}), confidence=1.0, lift=3.0)]),\n",
       " RelationRecord(items=frozenset({'164.27', '201.98'}), support=0.3333333333333333, ordered_statistics=[OrderedStatistic(items_base=frozenset({'164.27'}), items_add=frozenset({'201.98'}), confidence=1.0, lift=3.0), OrderedStatistic(items_base=frozenset({'201.98'}), items_add=frozenset({'164.27'}), confidence=1.0, lift=3.0)]),\n",
       " RelationRecord(items=frozenset({'164.27', '215.92'}), support=0.3333333333333333, ordered_statistics=[OrderedStatistic(items_base=frozenset({'164.27'}), items_add=frozenset({'215.92'}), confidence=1.0, lift=3.0), OrderedStatistic(items_base=frozenset({'215.92'}), items_add=frozenset({'164.27'}), confidence=1.0, lift=3.0)]),\n",
       " RelationRecord(items=frozenset({'164.27', 'Kecil'}), support=0.3333333333333333, ordered_statistics=[OrderedStatistic(items_base=frozenset({'164.27'}), items_add=frozenset({'Kecil'}), confidence=1.0, lift=3.0), OrderedStatistic(items_base=frozenset({'Kecil'}), items_add=frozenset({'164.27'}), confidence=1.0, lift=3.0)]),\n",
       " RelationRecord(items=frozenset({'164.87', '88.02'}), support=0.3333333333333333, ordered_statistics=[OrderedStatistic(items_base=frozenset({'164.87'}), items_add=frozenset({'88.02'}), confidence=1.0, lift=3.0), OrderedStatistic(items_base=frozenset({'88.02'}), items_add=frozenset({'164.87'}), confidence=1.0, lift=3.0)]),\n",
       " RelationRecord(items=frozenset({'97.18', '164.87'}), support=0.3333333333333333, ordered_statistics=[OrderedStatistic(items_base=frozenset({'164.87'}), items_add=frozenset({'97.18'}), confidence=1.0, lift=3.0), OrderedStatistic(items_base=frozenset({'97.18'}), items_add=frozenset({'164.87'}), confidence=1.0, lift=3.0)]),\n",
       " RelationRecord(items=frozenset({'164.87', 'Mikro'}), support=0.3333333333333333, ordered_statistics=[OrderedStatistic(items_base=frozenset({'164.87'}), items_add=frozenset({'Mikro'}), confidence=1.0, lift=3.0), OrderedStatistic(items_base=frozenset({'Mikro'}), items_add=frozenset({'164.87'}), confidence=1.0, lift=3.0)]),\n",
       " RelationRecord(items=frozenset({'187.73', '201.98'}), support=0.3333333333333333, ordered_statistics=[OrderedStatistic(items_base=frozenset({'187.73'}), items_add=frozenset({'201.98'}), confidence=1.0, lift=3.0), OrderedStatistic(items_base=frozenset({'201.98'}), items_add=frozenset({'187.73'}), confidence=1.0, lift=3.0)]),\n",
       " RelationRecord(items=frozenset({'187.73', '215.92'}), support=0.3333333333333333, ordered_statistics=[OrderedStatistic(items_base=frozenset({'187.73'}), items_add=frozenset({'215.92'}), confidence=1.0, lift=3.0), OrderedStatistic(items_base=frozenset({'215.92'}), items_add=frozenset({'187.73'}), confidence=1.0, lift=3.0)]),\n",
       " RelationRecord(items=frozenset({'Kecil', '187.73'}), support=0.3333333333333333, ordered_statistics=[OrderedStatistic(items_base=frozenset({'187.73'}), items_add=frozenset({'Kecil'}), confidence=1.0, lift=3.0), OrderedStatistic(items_base=frozenset({'Kecil'}), items_add=frozenset({'187.73'}), confidence=1.0, lift=3.0)]),\n",
       " RelationRecord(items=frozenset({'201.98', '215.92'}), support=0.3333333333333333, ordered_statistics=[OrderedStatistic(items_base=frozenset({'201.98'}), items_add=frozenset({'215.92'}), confidence=1.0, lift=3.0), OrderedStatistic(items_base=frozenset({'215.92'}), items_add=frozenset({'201.98'}), confidence=1.0, lift=3.0)]),\n",
       " RelationRecord(items=frozenset({'Kecil', '201.98'}), support=0.3333333333333333, ordered_statistics=[OrderedStatistic(items_base=frozenset({'201.98'}), items_add=frozenset({'Kecil'}), confidence=1.0, lift=3.0), OrderedStatistic(items_base=frozenset({'Kecil'}), items_add=frozenset({'201.98'}), confidence=1.0, lift=3.0)]),\n",
       " RelationRecord(items=frozenset({'2011.0', '2012.0'}), support=0.3333333333333333, ordered_statistics=[OrderedStatistic(items_base=frozenset({'2011.0'}), items_add=frozenset({'2012.0'}), confidence=1.0, lift=3.0), OrderedStatistic(items_base=frozenset({'2012.0'}), items_add=frozenset({'2011.0'}), confidence=1.0, lift=3.0)]),\n",
       " RelationRecord(items=frozenset({'2011.0', '2013.0'}), support=0.3333333333333333, ordered_statistics=[OrderedStatistic(items_base=frozenset({'2011.0'}), items_add=frozenset({'2013.0'}), confidence=1.0, lift=3.0), OrderedStatistic(items_base=frozenset({'2013.0'}), items_add=frozenset({'2011.0'}), confidence=1.0, lift=3.0)]),\n",
       " RelationRecord(items=frozenset({'2011.0', '2014.0'}), support=0.3333333333333333, ordered_statistics=[OrderedStatistic(items_base=frozenset({'2011.0'}), items_add=frozenset({'2014.0'}), confidence=1.0, lift=3.0), OrderedStatistic(items_base=frozenset({'2014.0'}), items_add=frozenset({'2011.0'}), confidence=1.0, lift=3.0)]),\n",
       " RelationRecord(items=frozenset({'2015.0', '2011.0'}), support=0.3333333333333333, ordered_statistics=[OrderedStatistic(items_base=frozenset({'2011.0'}), items_add=frozenset({'2015.0'}), confidence=1.0, lift=3.0), OrderedStatistic(items_base=frozenset({'2015.0'}), items_add=frozenset({'2011.0'}), confidence=1.0, lift=3.0)]),\n",
       " RelationRecord(items=frozenset({'2011.0', 'Usaha'}), support=0.3333333333333333, ordered_statistics=[OrderedStatistic(items_base=frozenset({'2011.0'}), items_add=frozenset({'Usaha'}), confidence=1.0, lift=3.0), OrderedStatistic(items_base=frozenset({'Usaha'}), items_add=frozenset({'2011.0'}), confidence=1.0, lift=3.0)]),\n",
       " RelationRecord(items=frozenset({'2012.0', '2013.0'}), support=0.3333333333333333, ordered_statistics=[OrderedStatistic(items_base=frozenset({'2012.0'}), items_add=frozenset({'2013.0'}), confidence=1.0, lift=3.0), OrderedStatistic(items_base=frozenset({'2013.0'}), items_add=frozenset({'2012.0'}), confidence=1.0, lift=3.0)]),\n",
       " RelationRecord(items=frozenset({'2014.0', '2012.0'}), support=0.3333333333333333, ordered_statistics=[OrderedStatistic(items_base=frozenset({'2012.0'}), items_add=frozenset({'2014.0'}), confidence=1.0, lift=3.0), OrderedStatistic(items_base=frozenset({'2014.0'}), items_add=frozenset({'2012.0'}), confidence=1.0, lift=3.0)]),\n",
       " RelationRecord(items=frozenset({'2015.0', '2012.0'}), support=0.3333333333333333, ordered_statistics=[OrderedStatistic(items_base=frozenset({'2012.0'}), items_add=frozenset({'2015.0'}), confidence=1.0, lift=3.0), OrderedStatistic(items_base=frozenset({'2015.0'}), items_add=frozenset({'2012.0'}), confidence=1.0, lift=3.0)]),\n",
       " RelationRecord(items=frozenset({'Usaha', '2012.0'}), support=0.3333333333333333, ordered_statistics=[OrderedStatistic(items_base=frozenset({'2012.0'}), items_add=frozenset({'Usaha'}), confidence=1.0, lift=3.0), OrderedStatistic(items_base=frozenset({'Usaha'}), items_add=frozenset({'2012.0'}), confidence=1.0, lift=3.0)]),\n",
       " RelationRecord(items=frozenset({'2014.0', '2013.0'}), support=0.3333333333333333, ordered_statistics=[OrderedStatistic(items_base=frozenset({'2013.0'}), items_add=frozenset({'2014.0'}), confidence=1.0, lift=3.0), OrderedStatistic(items_base=frozenset({'2014.0'}), items_add=frozenset({'2013.0'}), confidence=1.0, lift=3.0)]),\n",
       " RelationRecord(items=frozenset({'2015.0', '2013.0'}), support=0.3333333333333333, ordered_statistics=[OrderedStatistic(items_base=frozenset({'2013.0'}), items_add=frozenset({'2015.0'}), confidence=1.0, lift=3.0), OrderedStatistic(items_base=frozenset({'2015.0'}), items_add=frozenset({'2013.0'}), confidence=1.0, lift=3.0)]),\n",
       " RelationRecord(items=frozenset({'Usaha', '2013.0'}), support=0.3333333333333333, ordered_statistics=[OrderedStatistic(items_base=frozenset({'2013.0'}), items_add=frozenset({'Usaha'}), confidence=1.0, lift=3.0), OrderedStatistic(items_base=frozenset({'Usaha'}), items_add=frozenset({'2013.0'}), confidence=1.0, lift=3.0)]),\n",
       " RelationRecord(items=frozenset({'2015.0', '2014.0'}), support=0.3333333333333333, ordered_statistics=[OrderedStatistic(items_base=frozenset({'2014.0'}), items_add=frozenset({'2015.0'}), confidence=1.0, lift=3.0), OrderedStatistic(items_base=frozenset({'2015.0'}), items_add=frozenset({'2014.0'}), confidence=1.0, lift=3.0)]),\n",
       " RelationRecord(items=frozenset({'2014.0', 'Usaha'}), support=0.3333333333333333, ordered_statistics=[OrderedStatistic(items_base=frozenset({'2014.0'}), items_add=frozenset({'Usaha'}), confidence=1.0, lift=3.0), OrderedStatistic(items_base=frozenset({'Usaha'}), items_add=frozenset({'2014.0'}), confidence=1.0, lift=3.0)]),\n",
       " RelationRecord(items=frozenset({'2015.0', 'Usaha'}), support=0.3333333333333333, ordered_statistics=[OrderedStatistic(items_base=frozenset({'2015.0'}), items_add=frozenset({'Usaha'}), confidence=1.0, lift=3.0), OrderedStatistic(items_base=frozenset({'Usaha'}), items_add=frozenset({'2015.0'}), confidence=1.0, lift=3.0)]),\n",
       " RelationRecord(items=frozenset({'Kecil', '215.92'}), support=0.3333333333333333, ordered_statistics=[OrderedStatistic(items_base=frozenset({'215.92'}), items_add=frozenset({'Kecil'}), confidence=1.0, lift=3.0), OrderedStatistic(items_base=frozenset({'Kecil'}), items_add=frozenset({'215.92'}), confidence=1.0, lift=3.0)]),\n",
       " RelationRecord(items=frozenset({'97.18', '88.02'}), support=0.3333333333333333, ordered_statistics=[OrderedStatistic(items_base=frozenset({'88.02'}), items_add=frozenset({'97.18'}), confidence=1.0, lift=3.0), OrderedStatistic(items_base=frozenset({'97.18'}), items_add=frozenset({'88.02'}), confidence=1.0, lift=3.0)]),\n",
       " RelationRecord(items=frozenset({'88.02', 'Mikro'}), support=0.3333333333333333, ordered_statistics=[OrderedStatistic(items_base=frozenset({'88.02'}), items_add=frozenset({'Mikro'}), confidence=1.0, lift=3.0), OrderedStatistic(items_base=frozenset({'Mikro'}), items_add=frozenset({'88.02'}), confidence=1.0, lift=3.0)]),\n",
       " RelationRecord(items=frozenset({'97.18', 'Mikro'}), support=0.3333333333333333, ordered_statistics=[OrderedStatistic(items_base=frozenset({'97.18'}), items_add=frozenset({'Mikro'}), confidence=1.0, lift=3.0), OrderedStatistic(items_base=frozenset({'Mikro'}), items_add=frozenset({'97.18'}), confidence=1.0, lift=3.0)])]"
      ]
     },
     "execution_count": 23,
     "metadata": {},
     "output_type": "execute_result"
    }
   ],
   "source": [
    "results"
   ]
  },
  {
   "cell_type": "code",
   "execution_count": 24,
   "id": "d0ad0c58",
   "metadata": {},
   "outputs": [],
   "source": [
    "def inspect(results):\n",
    "    lhs         = [tuple(result[2][0][0])[0] for result in results]\n",
    "    rhs         = [tuple(result[2][0][1])[0] for result in results]\n",
    "    supports    = [result[1] for result in results]\n",
    "    confidences = [result[2][0][2] for result in results]\n",
    "    lifts       = [result[2][0][3] for result in results]\n",
    "    return list(zip(lhs, rhs, supports, confidences, lifts))\n",
    "resultsinDataFrame = pd.DataFrame(inspect(results), columns = ['Left Hand Side', 'Right Hand Side', 'Support', 'Confidence', 'Lift'])"
   ]
  },
  {
   "cell_type": "code",
   "execution_count": 25,
   "id": "2c45671b",
   "metadata": {},
   "outputs": [
    {
     "data": {
      "text/html": [
       "<div>\n",
       "<style scoped>\n",
       "    .dataframe tbody tr th:only-of-type {\n",
       "        vertical-align: middle;\n",
       "    }\n",
       "\n",
       "    .dataframe tbody tr th {\n",
       "        vertical-align: top;\n",
       "    }\n",
       "\n",
       "    .dataframe thead th {\n",
       "        text-align: right;\n",
       "    }\n",
       "</style>\n",
       "<table border=\"1\" class=\"dataframe\">\n",
       "  <thead>\n",
       "    <tr style=\"text-align: right;\">\n",
       "      <th></th>\n",
       "      <th>Left Hand Side</th>\n",
       "      <th>Right Hand Side</th>\n",
       "      <th>Support</th>\n",
       "      <th>Confidence</th>\n",
       "      <th>Lift</th>\n",
       "    </tr>\n",
       "  </thead>\n",
       "  <tbody>\n",
       "    <tr>\n",
       "      <th>0</th>\n",
       "      <td>118.77</td>\n",
       "      <td>140.27</td>\n",
       "      <td>0.333333</td>\n",
       "      <td>1.0</td>\n",
       "      <td>3.0</td>\n",
       "    </tr>\n",
       "    <tr>\n",
       "      <th>1</th>\n",
       "      <td>118.77</td>\n",
       "      <td>164.87</td>\n",
       "      <td>0.333333</td>\n",
       "      <td>1.0</td>\n",
       "      <td>3.0</td>\n",
       "    </tr>\n",
       "    <tr>\n",
       "      <th>2</th>\n",
       "      <td>118.77</td>\n",
       "      <td>88.02</td>\n",
       "      <td>0.333333</td>\n",
       "      <td>1.0</td>\n",
       "      <td>3.0</td>\n",
       "    </tr>\n",
       "    <tr>\n",
       "      <th>3</th>\n",
       "      <td>118.77</td>\n",
       "      <td>97.18</td>\n",
       "      <td>0.333333</td>\n",
       "      <td>1.0</td>\n",
       "      <td>3.0</td>\n",
       "    </tr>\n",
       "    <tr>\n",
       "      <th>4</th>\n",
       "      <td>118.77</td>\n",
       "      <td>Mikro</td>\n",
       "      <td>0.333333</td>\n",
       "      <td>1.0</td>\n",
       "      <td>3.0</td>\n",
       "    </tr>\n",
       "    <tr>\n",
       "      <th>5</th>\n",
       "      <td>140.27</td>\n",
       "      <td>164.87</td>\n",
       "      <td>0.333333</td>\n",
       "      <td>1.0</td>\n",
       "      <td>3.0</td>\n",
       "    </tr>\n",
       "    <tr>\n",
       "      <th>6</th>\n",
       "      <td>140.27</td>\n",
       "      <td>88.02</td>\n",
       "      <td>0.333333</td>\n",
       "      <td>1.0</td>\n",
       "      <td>3.0</td>\n",
       "    </tr>\n",
       "    <tr>\n",
       "      <th>7</th>\n",
       "      <td>140.27</td>\n",
       "      <td>97.18</td>\n",
       "      <td>0.333333</td>\n",
       "      <td>1.0</td>\n",
       "      <td>3.0</td>\n",
       "    </tr>\n",
       "    <tr>\n",
       "      <th>8</th>\n",
       "      <td>140.27</td>\n",
       "      <td>Mikro</td>\n",
       "      <td>0.333333</td>\n",
       "      <td>1.0</td>\n",
       "      <td>3.0</td>\n",
       "    </tr>\n",
       "    <tr>\n",
       "      <th>9</th>\n",
       "      <td>146.53</td>\n",
       "      <td>164.27</td>\n",
       "      <td>0.333333</td>\n",
       "      <td>1.0</td>\n",
       "      <td>3.0</td>\n",
       "    </tr>\n",
       "  </tbody>\n",
       "</table>\n",
       "</div>"
      ],
      "text/plain": [
       "  Left Hand Side Right Hand Side   Support  Confidence  Lift\n",
       "0         118.77          140.27  0.333333         1.0   3.0\n",
       "1         118.77          164.87  0.333333         1.0   3.0\n",
       "2         118.77           88.02  0.333333         1.0   3.0\n",
       "3         118.77           97.18  0.333333         1.0   3.0\n",
       "4         118.77           Mikro  0.333333         1.0   3.0\n",
       "5         140.27          164.87  0.333333         1.0   3.0\n",
       "6         140.27           88.02  0.333333         1.0   3.0\n",
       "7         140.27           97.18  0.333333         1.0   3.0\n",
       "8         140.27           Mikro  0.333333         1.0   3.0\n",
       "9         146.53          164.27  0.333333         1.0   3.0"
      ]
     },
     "execution_count": 25,
     "metadata": {},
     "output_type": "execute_result"
    }
   ],
   "source": [
    "resultsinDataFrame.nlargest(n = 10, columns = 'Lift')"
   ]
  },
  {
   "cell_type": "code",
   "execution_count": null,
   "id": "24abe949",
   "metadata": {},
   "outputs": [],
   "source": []
  }
 ],
 "metadata": {
  "kernelspec": {
   "display_name": "Python 3 (ipykernel)",
   "language": "python",
   "name": "python3"
  },
  "language_info": {
   "codemirror_mode": {
    "name": "ipython",
    "version": 3
   },
   "file_extension": ".py",
   "mimetype": "text/x-python",
   "name": "python",
   "nbconvert_exporter": "python",
   "pygments_lexer": "ipython3",
   "version": "3.10.0"
  }
 },
 "nbformat": 4,
 "nbformat_minor": 5
}
